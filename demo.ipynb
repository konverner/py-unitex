{
 "cells": [
  {
   "cell_type": "code",
   "execution_count": 2,
   "metadata": {
    "collapsed": true,
    "ExecuteTime": {
     "start_time": "2024-02-16T00:04:39.573150Z",
     "end_time": "2024-02-16T00:04:40.250161Z"
    }
   },
   "outputs": [
    {
     "name": "stdout",
     "output_type": "stream",
     "text": [
      "[{'start': 3, 'end': 12, 'label': 'INF', 'text': 'route D94'}, {'start': 22, 'end': 40, 'label': 'GEO', 'text': 'rivière des Aigues'}]\n"
     ]
    }
   ],
   "source": [
    "from py_unitex.unitex import Unitex\n",
    "\n",
    "\n",
    "unitex = Unitex(lang=\"French\")\n",
    "\n",
    "text = \"La route D94 longe la rivière des Aigues.\"\n",
    "spans = unitex.get_spans(text, cascade_name=\"loc.csc\")\n",
    "print(spans)"
   ]
  },
  {
   "cell_type": "code",
   "execution_count": null,
   "outputs": [],
   "source": [],
   "metadata": {
    "collapsed": false
   }
  }
 ],
 "metadata": {
  "kernelspec": {
   "display_name": "Python 3",
   "language": "python",
   "name": "python3"
  },
  "language_info": {
   "codemirror_mode": {
    "name": "ipython",
    "version": 2
   },
   "file_extension": ".py",
   "mimetype": "text/x-python",
   "name": "python",
   "nbconvert_exporter": "python",
   "pygments_lexer": "ipython2",
   "version": "2.7.6"
  }
 },
 "nbformat": 4,
 "nbformat_minor": 0
}
